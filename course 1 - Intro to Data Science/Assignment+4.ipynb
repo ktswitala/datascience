{
 "cells": [
  {
   "cell_type": "markdown",
   "metadata": {},
   "source": [
    "---\n",
    "\n",
    "_You are currently looking at **version 1.1** of this notebook. To download notebooks and datafiles, as well as get help on Jupyter notebooks in the Coursera platform, visit the [Jupyter Notebook FAQ](https://www.coursera.org/learn/python-data-analysis/resources/0dhYG) course resource._\n",
    "\n",
    "---"
   ]
  },
  {
   "cell_type": "code",
   "execution_count": 103,
   "metadata": {
    "collapsed": true
   },
   "outputs": [],
   "source": [
    "import pandas as pd\n",
    "import numpy as np\n",
    "from scipy.stats import ttest_ind"
   ]
  },
  {
   "cell_type": "markdown",
   "metadata": {},
   "source": [
    "# Assignment 4 - Hypothesis Testing\n",
    "This assignment requires more individual learning than previous assignments - you are encouraged to check out the [pandas documentation](http://pandas.pydata.org/pandas-docs/stable/) to find functions or methods you might not have used yet, or ask questions on [Stack Overflow](http://stackoverflow.com/) and tag them as pandas and python related. And of course, the discussion forums are open for interaction with your peers and the course staff.\n",
    "\n",
    "Definitions:\n",
    "* A _quarter_ is a specific three month period, Q1 is January through March, Q2 is April through June, Q3 is July through September, Q4 is October through December.\n",
    "* A _recession_ is defined as starting with two consecutive quarters of GDP decline, and ending with two consecutive quarters of GDP growth.\n",
    "* A _recession bottom_ is the quarter within a recession which had the lowest GDP.\n",
    "* A _university town_ is a city which has a high percentage of university students compared to the total population of the city.\n",
    "\n",
    "**Hypothesis**: University towns have their mean housing prices less effected by recessions. Run a t-test to compare the ratio of the mean price of houses in university towns the quarter before the recession starts compared to the recession bottom. (`price_ratio=quarter_before_recession/recession_bottom`)\n",
    "\n",
    "The following data files are available for this assignment:\n",
    "* From the [Zillow research data site](http://www.zillow.com/research/data/) there is housing data for the United States. In particular the datafile for [all homes at a city level](http://files.zillowstatic.com/research/public/City/City_Zhvi_AllHomes.csv), ```City_Zhvi_AllHomes.csv```, has median home sale prices at a fine grained level.\n",
    "* From the Wikipedia page on college towns is a list of [university towns in the United States](https://en.wikipedia.org/wiki/List_of_college_towns#College_towns_in_the_United_States) which has been copy and pasted into the file ```university_towns.txt```.\n",
    "* From Bureau of Economic Analysis, US Department of Commerce, the [GDP over time](http://www.bea.gov/national/index.htm#gdp) of the United States in current dollars (use the chained value in 2009 dollars), in quarterly intervals, in the file ```gdplev.xls```. For this assignment, only look at GDP data from the first quarter of 2000 onward.\n",
    "\n",
    "Each function in this assignment below is worth 10%, with the exception of ```run_ttest()```, which is worth 50%."
   ]
  },
  {
   "cell_type": "code",
   "execution_count": 104,
   "metadata": {
    "collapsed": true
   },
   "outputs": [],
   "source": [
    "# Use this dictionary to map state names to two letter acronyms\n",
    "states = {'OH': 'Ohio', 'KY': 'Kentucky', 'AS': 'American Samoa', 'NV': 'Nevada', 'WY': 'Wyoming', 'NA': 'National', 'AL': 'Alabama', 'MD': 'Maryland', 'AK': 'Alaska', 'UT': 'Utah', 'OR': 'Oregon', 'MT': 'Montana', 'IL': 'Illinois', 'TN': 'Tennessee', 'DC': 'District of Columbia', 'VT': 'Vermont', 'ID': 'Idaho', 'AR': 'Arkansas', 'ME': 'Maine', 'WA': 'Washington', 'HI': 'Hawaii', 'WI': 'Wisconsin', 'MI': 'Michigan', 'IN': 'Indiana', 'NJ': 'New Jersey', 'AZ': 'Arizona', 'GU': 'Guam', 'MS': 'Mississippi', 'PR': 'Puerto Rico', 'NC': 'North Carolina', 'TX': 'Texas', 'SD': 'South Dakota', 'MP': 'Northern Mariana Islands', 'IA': 'Iowa', 'MO': 'Missouri', 'CT': 'Connecticut', 'WV': 'West Virginia', 'SC': 'South Carolina', 'LA': 'Louisiana', 'KS': 'Kansas', 'NY': 'New York', 'NE': 'Nebraska', 'OK': 'Oklahoma', 'FL': 'Florida', 'CA': 'California', 'CO': 'Colorado', 'PA': 'Pennsylvania', 'DE': 'Delaware', 'NM': 'New Mexico', 'RI': 'Rhode Island', 'MN': 'Minnesota', 'VI': 'Virgin Islands', 'NH': 'New Hampshire', 'MA': 'Massachusetts', 'GA': 'Georgia', 'ND': 'North Dakota', 'VA': 'Virginia'}\n",
    "states_fixed = dict(zip(states.values(), states.keys()))\n"
   ]
  },
  {
   "cell_type": "code",
   "execution_count": 105,
   "metadata": {
    "collapsed": true,
    "umich_part_id": "021",
    "umich_partlist_id": "004"
   },
   "outputs": [],
   "source": [
    "\n",
    "def get_list_of_university_towns():\n",
    "    '''Returns a DataFrame of towns and the states they are in from the \n",
    "    university_towns.txt list. The format of the DataFrame should be:\n",
    "    DataFrame( [ [\"Michigan\", \"Ann Arbor\"], [\"Michigan\", \"Yipsilanti\"] ], \n",
    "    columns=[\"State\", \"RegionName\"]  )\n",
    "    \n",
    "    The following cleaning needs to be done:\n",
    "\n",
    "    1. For \"State\", removing characters from \"[\" to the end.\n",
    "    2. For \"RegionName\", when applicable, removing every character from \" (\" to the end.\n",
    "    3. Depending on how you read the data, you may need to remove newline character '\\n'. '''\n",
    "                \n",
    "    current_state = None\n",
    "    pairs = []\n",
    "    \n",
    "    import re\n",
    "    #print(open(\"university_towns.txt\", \"r\").read())\n",
    "    with open(\"university_towns.txt\", \"r\") as f:\n",
    "        for line in f.readlines():\n",
    "            m = re.match(\"(.*)\\[edit\\](.*)\", line) \n",
    "            if m:\n",
    "                state = m.group(1)\n",
    "                if state in states_fixed:\n",
    "                    current_state = state\n",
    "                    continue\n",
    "                else:\n",
    "                    raise Exception(\"unknown line\", line)\n",
    "             \n",
    "            else:\n",
    "                idx = line.find(\"(\")\n",
    "                if idx > -1:\n",
    "                    line = line[:idx]\n",
    "                line = line.strip(\" \").strip('\\n')\n",
    "                pairs.append((current_state, line))\n",
    "            \n",
    "            #if line == 'The Colleges of Worcester Consortium:\\n':\n",
    "            #    continue\n",
    "                \n",
    "            #if line == 'The Five College Region of Western Massachusetts:\\n':\n",
    "            #    continue\n",
    "            \n",
    "            #if line == 'Faribault, South Central College\\n':\n",
    "            #    pairs.append([current_state, 'Faribault'])\n",
    "            #    continue\n",
    "            \n",
    "            #if line == 'North Mankato, South Central College\\n':\n",
    "            #    pairs.append([current_state, 'North Mankato'])\n",
    "            #    continue\n",
    "            \n",
    "            \n",
    "            #raise Exception(\"unmatched line\", current_state, line)\n",
    "    \n",
    "    return pd.DataFrame(pairs, columns=[\"State\", \"RegionName\"] )"
   ]
  },
  {
   "cell_type": "code",
   "execution_count": 106,
   "metadata": {
    "umich_part_id": "022",
    "umich_partlist_id": "004"
   },
   "outputs": [
    {
     "data": {
      "text/plain": [
       "'2008q3'"
      ]
     },
     "execution_count": 106,
     "metadata": {},
     "output_type": "execute_result"
    }
   ],
   "source": [
    "gdp = pd.read_excel('gdplev.xls', usecols=[4,6])\n",
    "gdp.columns = ['Quarterly', 'GDP in billions of chained 2009 dollars']\n",
    "gdp = gdp.drop( range(0, 219) )\n",
    "gdp['GDP Change'] = gdp.iloc[:, [1]].diff()\n",
    "gdp = gdp.set_index('Quarterly')\n",
    "\n",
    "def get_recession_start():\n",
    "    '''Returns the year and quarter of the recession start time as a \n",
    "    string value in a format such as 2005q3'''\n",
    "    \n",
    "    def window_func(params):\n",
    "        if params[0] < 0 and params[1] < 0:\n",
    "            return True\n",
    "        else:\n",
    "            return False\n",
    "    \n",
    "    gdp['Recession start'] = gdp['GDP Change'].rolling(2).apply(window_func)\n",
    "    \n",
    "    return gdp['Recession start'].shift(-1).idxmax()\n",
    "get_recession_start()"
   ]
  },
  {
   "cell_type": "code",
   "execution_count": 107,
   "metadata": {
    "umich_part_id": "023",
    "umich_partlist_id": "004"
   },
   "outputs": [
    {
     "data": {
      "text/plain": [
       "'2009q4'"
      ]
     },
     "execution_count": 107,
     "metadata": {},
     "output_type": "execute_result"
    }
   ],
   "source": [
    "def get_recession_end():\n",
    "    '''Returns the year and quarter of the recession end time as a \n",
    "    string value in a format such as 2005q3'''\n",
    "           \n",
    "    def window_func(params):\n",
    "        if params[0] > 0 and params[1] > 0:\n",
    "            return True\n",
    "        else:\n",
    "            return False\n",
    "    \n",
    "    gdp['Recession end'] = gdp['GDP Change'].rolling(2).apply(window_func)\n",
    "    rec_start = get_recession_start()\n",
    "    looking_for_end = False\n",
    "    rec_end = None\n",
    "    for idx, row in gdp.iterrows():\n",
    "        if looking_for_end is True:\n",
    "            if row['Recession end'] == 1:\n",
    "                rec_end = idx\n",
    "        if idx == rec_start:\n",
    "            looking_for_end = True\n",
    "        if rec_end is not None:\n",
    "            break\n",
    "        \n",
    "    return rec_end\n",
    "get_recession_end()\n",
    "#gdp.loc[250:260]"
   ]
  },
  {
   "cell_type": "code",
   "execution_count": 108,
   "metadata": {
    "umich_part_id": "024",
    "umich_partlist_id": "004"
   },
   "outputs": [
    {
     "data": {
      "text/plain": [
       "'2009q2'"
      ]
     },
     "execution_count": 108,
     "metadata": {},
     "output_type": "execute_result"
    }
   ],
   "source": [
    "def get_recession_bottom():\n",
    "    '''Returns the year and quarter of the recession bottom time as a \n",
    "    string value in a format such as 2005q3'''\n",
    "    \n",
    "    def window_func(params):\n",
    "        print(params)\n",
    "        return True\n",
    "\n",
    "    start_idx = get_recession_start()\n",
    "    end_idx = get_recession_end()\n",
    "    gdp['Recession'] = 0\n",
    "    gdp.loc[start_idx:end_idx]['Recession'] = 1\n",
    "\n",
    "    bottom_idx = gdp[gdp['Recession'] == 1]['GDP in billions of chained 2009 dollars'].idxmin()\n",
    "    return bottom_idx\n",
    "get_recession_bottom()"
   ]
  },
  {
   "cell_type": "code",
   "execution_count": 109,
   "metadata": {
    "collapsed": true,
    "umich_part_id": "025",
    "umich_partlist_id": "004"
   },
   "outputs": [],
   "source": [
    "def convert_housing_data_to_quarters():\n",
    "    '''Converts the housing data to quarters and returns it as mean \n",
    "    values in a dataframe. This dataframe should be a dataframe with\n",
    "    columns for 2000q1 through 2016q3, and should have a multi-index\n",
    "    in the shape of [\"State\",\"RegionName\"].\n",
    "    \n",
    "    Note: Quarters are defined in the assignment description, they are\n",
    "    not arbitrary three month periods.\n",
    "    \n",
    "    The resulting dataframe should have 67 columns, and 10,730 rows.\n",
    "    '''\n",
    "    housing_data = pd.read_csv('City_Zhvi_AllHomes.csv')\n",
    "    housing_data.drop(['RegionID', 'Metro', 'CountyName', 'SizeRank'], axis=1, inplace=True)\n",
    "    \n",
    "    mindex_tuples = list(zip(housing_data['State'].apply(lambda s: states[s]), housing_data['RegionName']))\n",
    "    mindex = pd.MultiIndex.from_tuples(mindex_tuples, names=(\"State\", \"RegionName\"))\n",
    "    \n",
    "    df = pd.DataFrame()\n",
    "    for year in range(2000, 2017):\n",
    "        for i, (q_name, months) in enumerate(zip(range(1,5), [[1,2,3], [4,5,6], [7,8,9], [10,11,12]])):\n",
    "            column_to = '{0}q{1}'.format(year, i+1)\n",
    "            columns_from = [\"{0}-{1:02d}\".format(year, m) for m in months]\n",
    "            if column_to == '2016q4':\n",
    "                continue\n",
    "            df[column_to] = housing_data.loc[:,columns_from].mean(axis=1)\n",
    "            \n",
    "    df.index = mindex\n",
    "    df = df.sort_index()\n",
    "    return df"
   ]
  },
  {
   "cell_type": "code",
   "execution_count": 121,
   "metadata": {
    "umich_part_id": "026",
    "umich_partlist_id": "004"
   },
   "outputs": [
    {
     "name": "stdout",
     "output_type": "stream",
     "text": [
      "1.03768943953 1.05110577789\n"
     ]
    },
    {
     "data": {
      "text/plain": [
       "(True, 0.0043252148535112009, 'non-university town')"
      ]
     },
     "execution_count": 121,
     "metadata": {},
     "output_type": "execute_result"
    }
   ],
   "source": [
    "def run_ttest():\n",
    "    '''First creates new data showing the decline or growth of housing prices\n",
    "    between the recession start and the recession bottom. Then runs a ttest\n",
    "    comparing the university town values to the non-university towns values, \n",
    "    return whether the alternative hypothesis (that the two groups are the same)\n",
    "    is true or not as well as the p-value of the confidence. \n",
    "    \n",
    "    Return the tuple (different, p, better) where different=True if the t-test is\n",
    "    True at a p<0.01 (we reject the null hypothesis), or different=False if \n",
    "    otherwise (we cannot reject the null hypothesis). The variable p should\n",
    "    be equal to the exact p value returned from scipy.stats.ttest_ind(). The\n",
    "    value for better should be either \"university town\" or \"non-university town\"\n",
    "    depending on which has a lower mean price ratio (which is equivilent to a\n",
    "    reduced market loss).'''\n",
    "    \n",
    "    #print(gdp.loc['2008q1':'2009q4'])\n",
    "\n",
    "    university_towns = get_list_of_university_towns()\n",
    "    rec_bottom = get_recession_bottom()\n",
    "    rec_start = get_recession_start()\n",
    "    rec_end = get_recession_end()\n",
    "    housing_data = convert_housing_data_to_quarters()\n",
    "\n",
    "    housing_change = housing_data[rec_bottom] - housing_data[rec_start] \n",
    "    housing_ratio = housing_data[rec_start] / housing_data[rec_bottom]\n",
    "        \n",
    "    def university_group_fn(params):\n",
    "        state, region_name = params\n",
    "        is_uni_town = max( (university_towns['State'] == state) & (university_towns['RegionName'] == region_name) )\n",
    "        if is_uni_town:\n",
    "            return \"uni\"\n",
    "        else:\n",
    "            return \"non-uni\"\n",
    "            \n",
    "    housing_change = housing_change.groupby(by=university_group_fn)    \n",
    "    ttest = ttest_ind(housing_change.get_group(\"uni\").dropna(), housing_change.get_group(\"non-uni\").dropna())\n",
    "\n",
    "    first_answer = ttest.pvalue < 0.01\n",
    "    second_answer = ttest.pvalue\n",
    "    uni_mean = housing_ratio.loc[housing_change.get_group(\"uni\").index].dropna().mean()\n",
    "    non_uni_mean = housing_ratio.loc[housing_change.get_group(\"non-uni\").index].dropna().mean()\n",
    "    print(uni_mean, non_uni_mean)\n",
    "    if uni_mean > non_uni_mean:\n",
    "        third_answer = \"university town\"\n",
    "    else:\n",
    "        third_answer = \"non-university town\"\n",
    "        \n",
    "    return (first_answer, second_answer, third_answer)\n",
    "run_ttest()"
   ]
  },
  {
   "cell_type": "code",
   "execution_count": null,
   "metadata": {
    "collapsed": true
   },
   "outputs": [],
   "source": []
  },
  {
   "cell_type": "code",
   "execution_count": null,
   "metadata": {
    "collapsed": true
   },
   "outputs": [],
   "source": []
  }
 ],
 "metadata": {
  "coursera": {
   "course_slug": "python-data-analysis",
   "graded_item_id": "Il9Fx",
   "launcher_item_id": "TeDW0",
   "part_id": "WGlun"
  },
  "kernelspec": {
   "display_name": "Python 3",
   "language": "python",
   "name": "python3"
  },
  "language_info": {
   "codemirror_mode": {
    "name": "ipython",
    "version": 3
   },
   "file_extension": ".py",
   "mimetype": "text/x-python",
   "name": "python",
   "nbconvert_exporter": "python",
   "pygments_lexer": "ipython3",
   "version": "3.6.2"
  },
  "umich": {
   "id": "Assignment 4",
   "version": "1.1"
  }
 },
 "nbformat": 4,
 "nbformat_minor": 1
}
